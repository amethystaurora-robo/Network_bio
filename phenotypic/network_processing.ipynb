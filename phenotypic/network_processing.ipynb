{
 "cells": [
  {
   "cell_type": "code",
   "execution_count": null,
   "id": "d3aff72a-9b17-481e-bfe2-a591a7e4c264",
   "metadata": {},
   "outputs": [],
   "source": [
    "\"\"\"\n",
    "This file takes the output of gestalt_results.csv, the output from DynGENIE3 'genes_in_low_or_high_with_source.csv',\n",
    "the KEGG ID mapping file 'user_ko.tsv', and the output of WGCNA, 'gene_module_colors.csv'.\n",
    "It subsets to KEGG IDs, human ortholog IDs, and pathway descriptions.\n",
    "It merges it with alpha and weights values from DynGENIE3. \n",
    "The output file from WGCNA is merged to create a network in Cytoscape.\n",
    "\n",
    "\"\"\""
   ]
  },
  {
   "cell_type": "code",
   "execution_count": 2,
   "id": "12231db1-4e97-4d7e-9b3c-818419eaac54",
   "metadata": {},
   "outputs": [],
   "source": [
    "import pandas as pd\n",
    "import numpy as np"
   ]
  },
  {
   "cell_type": "code",
   "execution_count": 10,
   "id": "ec9d4d1f-c3e2-45e9-82d3-7b1e93932d45",
   "metadata": {},
   "outputs": [],
   "source": [
    "#read output of gestalt\n",
    "gestalt_results = pd.read_csv('gestalt_results.csv')\n",
    "#read output of DynGENIE3\n",
    "dosed_genes = pd.read_csv('genes_in_low_or_high_with_source.csv')\n",
    "#get KEGG ID mapping file\n",
    "kegg_ids = pd.read_csv('../user_ko.tsv',sep='\\t')\n",
    "#get wgcna results\n",
    "modules = pd.read_csv('gene_module_colors.csv')"
   ]
  },
  {
   "cell_type": "code",
   "execution_count": 27,
   "id": "fab2f299-4bd6-4f32-8f30-b4c917a55786",
   "metadata": {},
   "outputs": [
    {
     "data": {
      "text/plain": [
       "array(['K01047', 'K01897', 'K01672', 'K03283', 'K00002', 'K01084',\n",
       "       'K18246', 'K10879', 'K00699', 'K09448', 'K00031', 'K05210',\n",
       "       'K00033', 'K01363', 'K01596', 'K00236', 'K02649', 'K01077',\n",
       "       'K00889', 'K00710', 'K00182', 'K11251', 'K00507', 'K00623',\n",
       "       'K02183', 'K00261', 'K04632', 'K00079', 'K00799', 'K01593',\n",
       "       'K04362', 'K07198', 'K00910', 'K02871', 'K02864', 'K00070',\n",
       "       'K01539', 'K02295', 'K00012', 'K01081', 'K00604', 'K00016',\n",
       "       'K01866', 'K01176', 'K00657', 'K00058', 'K00654', 'K00922',\n",
       "       'K02677', 'K01230', 'K05870', 'K04962', 'K00234', 'K02326',\n",
       "       'K01349', 'K05175', 'K06237', 'K13524', 'K00444', 'K00416',\n",
       "       'K00572', 'K04615', 'K09201'], dtype=object)"
      ]
     },
     "execution_count": 27,
     "metadata": {},
     "output_type": "execute_result"
    }
   ],
   "source": [
    "#subset output of gestalt to 3 columns\n",
    "gestalt_subset = gestalt_results[['geneSet','description','userId','enrichmentScore','normalizedEnrichmentScore']]\n",
    "#drop NAs in KEGG ID file\n",
    "kegg_ids = kegg_ids.dropna(subset=['KO'])\n",
    "# Remove the 't1' suffix from every value in the 'genes' column\n",
    "kegg_ids['target'] = kegg_ids['target'].str.replace('t1$', '', regex=True)\n",
    "#merge DynGENIE3 with KEGG IDs on target\n",
    "dyngenie_kegg = pd.merge(kegg_ids, dosed_genes, on='target')\n",
    "#rename KEGG IDs so they match on regulatory\n",
    "kegg_ids_renamed = kegg_ids.rename(columns={\"target\":\"regulatory\",\"KO\":\"KO_regulatory\"})\n",
    "#merge DynGENIE3 with KEGG IDs on regulatory\n",
    "dyngenie_kegg_merged = pd.merge(kegg_ids_renamed, dyngenie_kegg, on='regulatory')\n",
    "#filter DynGENIE3 to only those with KEGG IDs\n",
    "dyngenie_kegg_filtered = dyngenie_kegg_merged.dropna(subset=['KO'])\n",
    "#subset to important columns\n",
    "dyngenie_subset = dyngenie_kegg_filtered[['target','KO','regulatory','alpha','weight','out.degree','KO_regulatory']]\n",
    "#rename columns\n",
    "gestalt_renamed = gestalt_subset.rename(columns={\"userId\":\"KO\"})\n",
    "#merge on KEGG IDs\n",
    "gestalt_dyngenie = pd.merge(gestalt_renamed,dyngenie_subset,on=\"KO\")\n",
    "#inspect\n",
    "gestalt_dyngenie.head()\n",
    "#add column with absolute value enrichment score for visualization\n",
    "gestalt_dyngenie['abs_es'] = gestalt_dyngenie['enrichmentScore'].abs()\n",
    "#sort by enrichemnt scores\n",
    "gestalt_sorted = gestalt_dyngenie.sort_values(by=['abs_es'],ascending=False)\n",
    "#save to csv\n",
    "gestalt_sorted.to_csv('gestalt_dyngenie.csv')\n",
    "gestalt_sorted['KO'].unique()"
   ]
  },
  {
   "cell_type": "code",
   "execution_count": 42,
   "id": "16720c3d-51f3-4d1b-a524-759a8f4fcce2",
   "metadata": {},
   "outputs": [
    {
     "data": {
      "text/plain": [
       "array(['Linoleic acid metabolism', 'alpha-Linolenic acid metabolism',\n",
       "       'Fat digestion and absorption', 'Arachidonic acid metabolism',\n",
       "       'Vascular smooth muscle contraction', 'Ether lipid metabolism',\n",
       "       'Pancreatic secretion', 'Fatty acid biosynthesis', 'Ferroptosis',\n",
       "       'Fatty acid degradation', 'Fatty acid metabolism',\n",
       "       'PPAR signaling pathway', 'Thermogenesis', 'Nitrogen metabolism',\n",
       "       'Antigen processing and presentation',\n",
       "       'Estrogen signaling pathway', 'Legionellosis',\n",
       "       'Longevity regulating pathway', 'Measles', 'Toxoplasmosis',\n",
       "       'Protein processing in endoplasmic reticulum',\n",
       "       'Lipid and atherosclerosis', 'Spliceosome',\n",
       "       'Ascorbate and aldarate metabolism',\n",
       "       'Pentose and glucuronate interconversions', 'Pyruvate metabolism',\n",
       "       'Adipocytokine signaling pathway', 'Starch and sucrose metabolism',\n",
       "       'Galactose metabolism', 'Insulin resistance',\n",
       "       'Carbohydrate digestion and absorption', 'AMPK signaling pathway',\n",
       "       'FoxO signaling pathway', 'Homologous recombination',\n",
       "       'Chemical carcinogenesis', 'Porphyrin metabolism',\n",
       "       'Drug metabolism', 'Metabolism of xenobiotics by cytochrome P450',\n",
       "       'Bile secretion', 'Retinol metabolism',\n",
       "       'Steroid hormone biosynthesis', 'Hippo signaling pathway',\n",
       "       'Peroxisome', 'Glutathione metabolism', 'Nicotine addiction',\n",
       "       'Systemic lupus erythematosus',\n",
       "       'Proximal tubule bicarbonate reclamation',\n",
       "       'Oxidative phosphorylation', 'Huntington disease', 'Prion disease',\n",
       "       'Amyotrophic lateral sclerosis', 'ErbB signaling pathway',\n",
       "       'Growth hormone synthesis, secretion and action',\n",
       "       'Neutrophil extracellular trap formation', 'Thiamine metabolism',\n",
       "       'Choline metabolism in cancer', 'Mucin type O-glycan biosynthesis',\n",
       "       'Other types of O-glycan biosynthesis', 'Basal cell carcinoma',\n",
       "       'Melanogenesis', 'Glycerophospholipid metabolism',\n",
       "       'Phototransduction', 'Long-term potentiation', 'Pertussis',\n",
       "       'Circadian entrainment', 'Arginine biosynthesis',\n",
       "       'Vasopressin-regulated water reabsorption', 'Cocaine addiction',\n",
       "       'Serotonergic synapse',\n",
       "       'Parathyroid hormone synthesis, secretion and action',\n",
       "       'Circadian rhythm', 'Glutamatergic synapse', 'Morphine addiction',\n",
       "       'Ribosome', 'Salivary secretion',\n",
       "       'Nicotinate and nicotinamide metabolism',\n",
       "       'Aminoacyl-tRNA biosynthesis', 'Glycolysis / Gluconeogenesis',\n",
       "       'Glycine, serine and threonine metabolism',\n",
       "       'Sphingolipid metabolism', 'Fc gamma R-mediated phagocytosis',\n",
       "       'TNF signaling pathway', 'VEGF signaling pathway',\n",
       "       'Regulation of lipolysis in adipocytes',\n",
       "       'Type II diabetes mellitus',\n",
       "       'Natural killer cell mediated cytotoxicity', 'Glioma',\n",
       "       'Rap1 signaling pathway', 'Neurotrophin signaling pathway',\n",
       "       'Autophagy', 'Progesterone-mediated oocyte maturation',\n",
       "       'Shigellosis', 'Oxytocin signaling pathway', 'Hepatitis B',\n",
       "       'Dilated cardiomyopathy', 'ATP-dependent chromatin remodeling',\n",
       "       'Viral life cycle', 'ECM-receptor interaction',\n",
       "       'Valine, leucine and isoleucine degradation', 'Cushing syndrome',\n",
       "       'Cardiac muscle contraction', 'Breast cancer',\n",
       "       'Polycomb repressive complex'], dtype=object)"
      ]
     },
     "execution_count": 42,
     "metadata": {},
     "output_type": "execute_result"
    }
   ],
   "source": [
    "#merge this file with wgcna to get module colors\n",
    "modules_renamed = modules.rename(columns={\"Gene\":\"KO\"})\n",
    "modules_renamed['KO'] = modules_renamed['KO'].str.replace(r'\\.\\d+$', '', regex=True)\n",
    "dyngenie_wgcna = pd.merge(gestalt_sorted,modules_renamed,on='KO')\n",
    "\n",
    "dyngenie_wgcna.to_csv('dyngenie_wgcna.csv')\n",
    "dyngenie_wgcna.head()\n",
    "dyngenie_wgcna['description'].unique()"
   ]
  }
 ],
 "metadata": {
  "kernelspec": {
   "display_name": "Python 3 (ipykernel)",
   "language": "python",
   "name": "python3"
  },
  "language_info": {
   "codemirror_mode": {
    "name": "ipython",
    "version": 3
   },
   "file_extension": ".py",
   "mimetype": "text/x-python",
   "name": "python",
   "nbconvert_exporter": "python",
   "pygments_lexer": "ipython3",
   "version": "3.9.13"
  }
 },
 "nbformat": 4,
 "nbformat_minor": 5
}
