{
 "cells": [
  {
   "cell_type": "code",
   "execution_count": null,
   "id": "d3aff72a-9b17-481e-bfe2-a591a7e4c264",
   "metadata": {},
   "outputs": [],
   "source": [
    "\"\"\"\n",
    "This file takes the output of Gestalt, subsets to KEGG IDs, human ortholog IDs, and pathway descriptions.\n",
    "It merges it with alpha and weights values from DynGENIE3. \n",
    "gestalt_dyngenie.csv is used in WGCNA, and the output file from WGCNA is merged to create a network in Cytoscape.\n",
    "\n",
    "\"\"\""
   ]
  },
  {
   "cell_type": "code",
   "execution_count": 1,
   "id": "12231db1-4e97-4d7e-9b3c-818419eaac54",
   "metadata": {},
   "outputs": [],
   "source": [
    "import pandas as pd\n",
    "import numpy as np"
   ]
  },
  {
   "cell_type": "code",
   "execution_count": 95,
   "id": "ec9d4d1f-c3e2-45e9-82d3-7b1e93932d45",
   "metadata": {},
   "outputs": [],
   "source": [
    "#read output of gestalt\n",
    "gestalt_results = pd.read_csv('gestalt_results.csv')\n",
    "#read output of DynGENIE3\n",
    "dosed_genes = pd.read_csv('genes_in_low_or_high_with_source.csv')\n",
    "#get KEGG ID mapping file\n",
    "kegg_ids = pd.read_csv('../user_ko.tsv',sep='\\t')\n",
    "#get wgcna results\n",
    "modules = pd.read_csv('gene_module_colors.csv')"
   ]
  },
  {
   "cell_type": "code",
   "execution_count": 93,
   "id": "fab2f299-4bd6-4f32-8f30-b4c917a55786",
   "metadata": {},
   "outputs": [],
   "source": [
    "#subset output of gestalt to 3 columns\n",
    "gestalt_subset = gestalt_results[['geneSet','description','userId','enrichmentScore','normalizedEnrichmentScore']]\n",
    "#drop NAs in KEGG ID file\n",
    "kegg_ids = kegg_ids.dropna(subset=['KO'])\n",
    "# Remove the 't1' suffix from every value in the 'genes' column\n",
    "kegg_ids['target'] = kegg_ids['target'].str.replace('t1$', '', regex=True)\n",
    "#merge DynGENIE3 with KEGG IDs on target\n",
    "dyngenie_kegg = pd.merge(kegg_ids, dosed_genes, on='target')\n",
    "#rename KEGG IDs so they match on regulatory\n",
    "kegg_ids_renamed = kegg_ids.rename(columns={\"target\":\"regulatory\",\"KO\":\"KO_regulatory\"})\n",
    "#merge DynGENIE3 with KEGG IDs on regulatory\n",
    "dyngenie_kegg_merged = pd.merge(kegg_ids_renamed, dyngenie_kegg, on='regulatory')\n",
    "#filter DynGENIE3 to only those with KEGG IDs\n",
    "dyngenie_kegg_filtered = dyngenie_kegg_merged.dropna(subset=['KO'])\n",
    "#subset to important columns\n",
    "dyngenie_subset = dyngenie_kegg_filtered[['target','KO','regulatory','alpha','weight','out.degree','KO_regulatory']]\n",
    "#rename columns\n",
    "gestalt_renamed = gestalt_subset.rename(columns={\"userId\":\"KO\"})\n",
    "#merge on KEGG IDs\n",
    "gestalt_dyngenie = pd.merge(gestalt_renamed,dyngenie_subset,on=\"KO\")\n",
    "#inspect\n",
    "gestalt_dyngenie.head()\n",
    "#add column with absolute value enrichment score for visualization\n",
    "gestalt_dyngenie['abs_es'] = gestalt_dyngenie['normalizedEnrichmentScore'].abs()\n",
    "#sort by enrichemnt scores\n",
    "gestalt_sorted = gestalt_dyngenie.sort_values(by=['abs_es'],ascending=False)\n",
    "#filter low enrichment scores\n",
    "gestalt_filtered = gestalt_sorted.loc[gestalt_sorted['abs_es']>=2]\n",
    "#save to csv\n",
    "gestalt_filtered.to_csv('gestalt_dyngenie.csv')"
   ]
  },
  {
   "cell_type": "code",
   "execution_count": 98,
   "id": "16720c3d-51f3-4d1b-a524-759a8f4fcce2",
   "metadata": {},
   "outputs": [],
   "source": [
    "#merge this file with wgcna to get module colors\n",
    "modules_renamed = modules.rename(columns={\"Gene\":\"KO\"})\n",
    "dyngenie_wgcna = pd.merge(gestalt_filtered,modules_renamed,on='KO')\n",
    "dyngenie_wgcna.to_csv('dyngenie_wgcna.csv')"
   ]
  }
 ],
 "metadata": {
  "kernelspec": {
   "display_name": "Python 3 (ipykernel)",
   "language": "python",
   "name": "python3"
  },
  "language_info": {
   "codemirror_mode": {
    "name": "ipython",
    "version": 3
   },
   "file_extension": ".py",
   "mimetype": "text/x-python",
   "name": "python",
   "nbconvert_exporter": "python",
   "pygments_lexer": "ipython3",
   "version": "3.9.13"
  }
 },
 "nbformat": 4,
 "nbformat_minor": 5
}
