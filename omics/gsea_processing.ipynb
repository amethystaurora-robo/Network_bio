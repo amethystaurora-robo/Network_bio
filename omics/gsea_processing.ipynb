{
 "cells": [
  {
   "cell_type": "code",
   "execution_count": null,
   "id": "96f13836-2371-4289-9249-db113bce74b6",
   "metadata": {},
   "outputs": [],
   "source": [
    "'''\n",
    "This file takes the top 10 enrichment results files from Gestalt for each condition/timepoint.\n",
    "It concats the data and adds annotation about where the data came from based on file names (low, high, timepoint, limma/dyngenie).\n",
    "It also cleans the KEGG IDs so that one ID is retained for each row.\n",
    "This df is saved to a csv for visualization in Tableau.\n",
    "\n",
    "'''"
   ]
  },
  {
   "cell_type": "code",
   "execution_count": 17,
   "id": "9cde89de-1b58-4595-97eb-dd13967bacbd",
   "metadata": {},
   "outputs": [],
   "source": [
    "import pandas as pd\n",
    "import numpy as np\n",
    "import glob"
   ]
  },
  {
   "cell_type": "code",
   "execution_count": 21,
   "id": "53ed68ad-0117-4888-8ccb-99daa7ea1f9f",
   "metadata": {},
   "outputs": [],
   "source": [
    "# Define the folder path\n",
    "folder_path = \"gestalt_tables\"\n",
    "\n",
    "# Get a list of all text files in the folder\n",
    "file_list = glob.glob(f\"{folder_path}/*.txt\")\n",
    "\n",
    "# Initialize a list to store DataFrames\n",
    "dataframes = []\n",
    "\n",
    "# Loop through the file list and read each file into a DataFrame\n",
    "for file in file_list:\n",
    "    df = pd.read_csv(file, sep=\"\\t\")\n",
    "    \n",
    "    # Extract information from the file name\n",
    "    base_name = file.split('/')[-1].replace('.txt', '')\n",
    "    parts = base_name.split('_')\n",
    "    \n",
    "    if 'alphas' in parts:\n",
    "        method = 'alphas'\n",
    "    elif 'limma' in parts:\n",
    "        method = 'limma'\n",
    "    \n",
    "    if 'low' in parts:\n",
    "        condition = 'low'\n",
    "    elif 'high' in parts:\n",
    "        condition = 'high'\n",
    "    \n",
    "    timepoints = ['1H', '2H', '6H', '12H', '24H', '4D', '5D', '6D', '7D']\n",
    "    timepoint = 'NA'\n",
    "    for tp in timepoints:\n",
    "        if tp in parts:\n",
    "            timepoint = tp\n",
    "            break\n",
    "    \n",
    "    # Add new columns to the DataFrame\n",
    "    df['method'] = method\n",
    "    df['condition'] = condition\n",
    "    df['timepoint'] = timepoint\n",
    "    \n",
    "    # Append the DataFrame to the list\n",
    "    dataframes.append(df)\n",
    "\n",
    "# Concatenate all DataFrames into one\n",
    "final_df = pd.concat(dataframes, ignore_index=True)"
   ]
  },
  {
   "cell_type": "code",
   "execution_count": 25,
   "id": "536a6f36-cbc1-49ad-bc93-605e936a2266",
   "metadata": {},
   "outputs": [],
   "source": [
    "# Function to retain only the first ID\n",
    "def clean_user_ids(user_ids):\n",
    "    return user_ids.split(';')[0]\n",
    "\n",
    "# Apply the function to the 'UserIDs' column\n",
    "final_df['userId'] = final_df['userId'].apply(clean_user_ids)\n",
    "\n",
    "final_df.to_csv('gestalt_results.csv')"
   ]
  }
 ],
 "metadata": {
  "kernelspec": {
   "display_name": "Python 3 (ipykernel)",
   "language": "python",
   "name": "python3"
  },
  "language_info": {
   "codemirror_mode": {
    "name": "ipython",
    "version": 3
   },
   "file_extension": ".py",
   "mimetype": "text/x-python",
   "name": "python",
   "nbconvert_exporter": "python",
   "pygments_lexer": "ipython3",
   "version": "3.9.13"
  }
 },
 "nbformat": 4,
 "nbformat_minor": 5
}
