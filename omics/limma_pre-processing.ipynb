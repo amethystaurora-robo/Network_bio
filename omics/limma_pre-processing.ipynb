{
 "cells": [
  {
   "cell_type": "code",
   "execution_count": 1,
   "id": "c5431531-9fc2-48ae-9f2d-8f8dc09b36df",
   "metadata": {},
   "outputs": [],
   "source": [
    "'''\n",
    "This file prepares the raw transcriptomic data for DeSEQ2. Metadata is removed from raw file and moved to a metadata file.\n",
    "'''"
   ]
  },
  {
   "cell_type": "code",
   "execution_count": null,
   "id": "63fbd9db-d407-49ae-bd58-b84548197e92",
   "metadata": {},
   "outputs": [],
   "source": [
    "import pandas as pd\n",
    "import numpy as np "
   ]
  },
  {
   "cell_type": "code",
   "execution_count": 2,
   "id": "26b468f9-d5f2-44c4-b0f7-3ce1d7a7fe64",
   "metadata": {},
   "outputs": [
    {
     "name": "stderr",
     "output_type": "stream",
     "text": [
      "/var/folders/v1/ymptnwwx3x1b7_mw0nns09wr0000gn/T/ipykernel_22124/430702266.py:1: DtypeWarning: Columns (2,3,4,5,6,7,8,9,10,11,12,13,14,15,16,17,18,19,20,21,22,23,24,25,26,27,28,29,30,31,32,33,34,35,36,37,38,39,40,41,42,43,44,45,46,47,48,49,50,51,52,53,54,55,56,57,58,59,60,61,62,63,64,65,66,67,68,69,70,71,72,73,74,75,76,77,78,79,80,81,82,83,84,85,86,87,88,89,90,91,92,93,94,95,96,97,98,99,100,101,102,103,104,105,106,107,108,109,110,111,112,113,114,115,116,117,118,119,120,121,122,123,124,125,126,127,128,129,130,131,132,133,134,135,136,137,138,139,140,141,142,143,144,145,146,147,148,149,150,151,152,153,154,155,156,157,158,159,160) have mixed types. Specify dtype option on import or set low_memory=False.\n",
      "  raw_counts = pd.read_csv('rna_vst_proc.csv')\n"
     ]
    }
   ],
   "source": [
    "raw_counts = pd.read_csv('rna_vst_proc.csv')"
   ]
  },
  {
   "cell_type": "code",
   "execution_count": 21,
   "id": "c53d9971-dea2-4b28-a40f-19359db0980a",
   "metadata": {},
   "outputs": [
    {
     "data": {
      "text/html": [
       "<div>\n",
       "<style scoped>\n",
       "    .dataframe tbody tr th:only-of-type {\n",
       "        vertical-align: middle;\n",
       "    }\n",
       "\n",
       "    .dataframe tbody tr th {\n",
       "        vertical-align: top;\n",
       "    }\n",
       "\n",
       "    .dataframe thead th {\n",
       "        text-align: right;\n",
       "    }\n",
       "</style>\n",
       "<table border=\"1\" class=\"dataframe\">\n",
       "  <thead>\n",
       "    <tr style=\"text-align: right;\">\n",
       "      <th></th>\n",
       "      <th>conditions</th>\n",
       "      <th>timepoints</th>\n",
       "      <th>row.names</th>\n",
       "    </tr>\n",
       "  </thead>\n",
       "  <tbody>\n",
       "    <tr>\n",
       "      <th>0</th>\n",
       "      <td>control</td>\n",
       "      <td>1H</td>\n",
       "      <td>Sample1</td>\n",
       "    </tr>\n",
       "    <tr>\n",
       "      <th>1</th>\n",
       "      <td>control</td>\n",
       "      <td>1H</td>\n",
       "      <td>Sample2</td>\n",
       "    </tr>\n",
       "    <tr>\n",
       "      <th>2</th>\n",
       "      <td>control</td>\n",
       "      <td>1H</td>\n",
       "      <td>Sample3</td>\n",
       "    </tr>\n",
       "    <tr>\n",
       "      <th>3</th>\n",
       "      <td>control</td>\n",
       "      <td>1H</td>\n",
       "      <td>Sample4</td>\n",
       "    </tr>\n",
       "    <tr>\n",
       "      <th>4</th>\n",
       "      <td>control</td>\n",
       "      <td>1H</td>\n",
       "      <td>Sample5</td>\n",
       "    </tr>\n",
       "  </tbody>\n",
       "</table>\n",
       "</div>"
      ],
      "text/plain": [
       "  conditions timepoints row.names\n",
       "0    control         1H   Sample1\n",
       "1    control         1H   Sample2\n",
       "2    control         1H   Sample3\n",
       "3    control         1H   Sample4\n",
       "4    control         1H   Sample5"
      ]
     },
     "execution_count": 21,
     "metadata": {},
     "output_type": "execute_result"
    }
   ],
   "source": [
    "#remove first column\n",
    "raw_counts_dropped = raw_counts.iloc[:,1:]\n",
    "\n",
    "#get column names prior to .# minus first column\n",
    "column_names = raw_counts_dropped.columns\n",
    "column_names_dropped = column_names[1:]\n",
    "processed_column_names = [col.split('.')[0] for col in column_names_dropped]\n",
    "\n",
    "#add column names to metadata file under condition\n",
    "metadata_rna = pd.DataFrame(columns=['conditions','timepoints','row.names'])\n",
    "metadata_rna['conditions'] = processed_column_names\n",
    "\n",
    "#get entries from time_point row minus first entry\n",
    "timepoints_list = raw_counts_dropped.iloc[0, 1:].tolist()\n",
    "\n",
    "#add to metadata file under timepoint\n",
    "metadata_rna['timepoints'] = timepoints_list\n",
    "\n",
    "#make list of Sample# - 1 - length of column\n",
    "new_column_names = ['Gene'] + [f'Sample{i+1}' for i in range(0, len(raw_counts_dropped.columns)-1)]\n",
    "raw_counts_dropped.columns = new_column_names\n",
    "\n",
    "#add column in metadata file with these column names\n",
    "metadata_rna['row.names'] = new_column_names[1:]\n",
    "\n",
    "#remove first two row from read counts\n",
    "raw_counts_cleaned = raw_counts_dropped.iloc[2:,:]"
   ]
  },
  {
   "cell_type": "code",
   "execution_count": 22,
   "id": "4c872259-376b-4640-9374-79ecda923c7f",
   "metadata": {},
   "outputs": [],
   "source": [
    "#save metadata and expression levels to csv files\n",
    "raw_counts_cleaned.to_csv('raw_counts_cleaned.csv')\n",
    "metadata_rna.to_csv('metadata_rna.csv')"
   ]
  }
 ],
 "metadata": {
  "kernelspec": {
   "display_name": "Python 3 (ipykernel)",
   "language": "python",
   "name": "python3"
  },
  "language_info": {
   "codemirror_mode": {
    "name": "ipython",
    "version": 3
   },
   "file_extension": ".py",
   "mimetype": "text/x-python",
   "name": "python",
   "nbconvert_exporter": "python",
   "pygments_lexer": "ipython3",
   "version": "3.9.13"
  }
 },
 "nbformat": 4,
 "nbformat_minor": 5
}
